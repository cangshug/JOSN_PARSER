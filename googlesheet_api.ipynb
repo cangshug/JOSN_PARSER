{
 "cells": [
  {
   "cell_type": "code",
   "execution_count": 1,
   "id": "69163e38",
   "metadata": {},
   "outputs": [],
   "source": [
    "import gspread\n",
    "import pandas as pd\n",
    "from oauth2client.service_account import ServiceAccountCredentials\n",
    "from pprint import pprint"
   ]
  },
  {
   "cell_type": "code",
   "execution_count": 2,
   "id": "477913e1",
   "metadata": {},
   "outputs": [],
   "source": [
    "scope = [\"https://spreadsheets.google.com/feeds\",\n",
    "         'https://www.googleapis.com/auth/spreadsheets',\n",
    "         \"https://www.googleapis.com/auth/drive.file\",\n",
    "         \"https://www.googleapis.com/auth/drive\"]"
   ]
  },
  {
   "cell_type": "code",
   "execution_count": 3,
   "id": "dc81dfce",
   "metadata": {},
   "outputs": [],
   "source": [
    "# Add json file in the same folder as the py file\n",
    "\n",
    "creds = ServiceAccountCredentials.from_json_keyfile_name(\"creds.json\", scope)"
   ]
  },
  {
   "cell_type": "code",
   "execution_count": 4,
   "id": "cdeb85e9",
   "metadata": {},
   "outputs": [],
   "source": [
    "client = gspread.authorize(creds)"
   ]
  },
  {
   "cell_type": "code",
   "execution_count": 5,
   "id": "a39023ea",
   "metadata": {},
   "outputs": [],
   "source": [
    "sheet = client.open(\"API test\").sheet1"
   ]
  },
  {
   "cell_type": "code",
   "execution_count": 6,
   "id": "6eb4730e",
   "metadata": {},
   "outputs": [
    {
     "name": "stdout",
     "output_type": "stream",
     "text": [
      "[{'ID': 'alskhdlabf11', 'Type': 'Fruit'}, {'ID': 'alsASLKFH99', 'Type': 'Fruit'}, {'ID': 'asfkhlahf4', 'Type': 'Fruit'}, {'ID': 'ascouadg5', 'Type': 'Fruit'}, {'ID': 'asvihau78', 'Type': 'Vegetable'}, {'ID': 'lwdihvoh89', 'Type': 'Vegetable'}, {'ID': 'alsjbcljb098', 'Type': 'Vegetable'}, {'ID': 'LDHVLJBL89', 'Type': 'Vegetable'}, {'ID': 'khvljblaf98', 'Type': 'Vegetable'}]\n"
     ]
    }
   ],
   "source": [
    "data = sheet.get_all_records()\n",
    "print(data)"
   ]
  },
  {
   "cell_type": "code",
   "execution_count": 7,
   "id": "63f9f059",
   "metadata": {},
   "outputs": [],
   "source": [
    "df = pd.DataFrame (data)"
   ]
  },
  {
   "cell_type": "code",
   "execution_count": 8,
   "id": "c25d3f8d",
   "metadata": {},
   "outputs": [
    {
     "name": "stdout",
     "output_type": "stream",
     "text": [
      "             ID       Type\n",
      "0  alskhdlabf11      Fruit\n",
      "1   alsASLKFH99      Fruit\n",
      "2    asfkhlahf4      Fruit\n",
      "3     ascouadg5      Fruit\n",
      "4     asvihau78  Vegetable\n",
      "5    lwdihvoh89  Vegetable\n",
      "6  alsjbcljb098  Vegetable\n",
      "7    LDHVLJBL89  Vegetable\n",
      "8   khvljblaf98  Vegetable\n"
     ]
    }
   ],
   "source": [
    "print(df)"
   ]
  },
  {
   "cell_type": "code",
   "execution_count": null,
   "id": "35fc3479",
   "metadata": {},
   "outputs": [],
   "source": []
  }
 ],
 "metadata": {
  "kernelspec": {
   "display_name": "Python 3 (ipykernel)",
   "language": "python",
   "name": "python3"
  },
  "language_info": {
   "codemirror_mode": {
    "name": "ipython",
    "version": 3
   },
   "file_extension": ".py",
   "mimetype": "text/x-python",
   "name": "python",
   "nbconvert_exporter": "python",
   "pygments_lexer": "ipython3",
   "version": "3.9.7"
  }
 },
 "nbformat": 4,
 "nbformat_minor": 5
}
